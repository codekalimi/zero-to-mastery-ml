{
 "cells": [
  {
   "cell_type": "markdown",
   "source": [
    "# Dot product excerise"
   ],
   "metadata": {
    "collapsed": false
   },
   "id": "cf42becd8d8e7c14"
  },
  {
   "cell_type": "code",
   "execution_count": 6,
   "outputs": [],
   "source": [
    "import numpy as np\n",
    "import pandas as pd"
   ],
   "metadata": {
    "collapsed": false,
    "ExecuteTime": {
     "end_time": "2023-08-12T13:34:08.574259Z",
     "start_time": "2023-08-12T13:34:08.524071Z"
    }
   },
   "id": "c20d5826d38d6d02"
  },
  {
   "cell_type": "code",
   "execution_count": 3,
   "outputs": [],
   "source": [
    "np.random.seed(0)"
   ],
   "metadata": {
    "collapsed": false,
    "ExecuteTime": {
     "end_time": "2023-08-12T13:33:18.216326Z",
     "start_time": "2023-08-12T13:33:18.199113Z"
    }
   },
   "id": "d66a298483a28dd8"
  },
  {
   "cell_type": "code",
   "execution_count": 4,
   "outputs": [
    {
     "data": {
      "text/plain": "array([[12, 15,  0],\n       [ 3,  3,  7],\n       [ 9, 19, 18],\n       [ 4,  6, 12],\n       [ 1,  6,  7]])"
     },
     "execution_count": 4,
     "metadata": {},
     "output_type": "execute_result"
    }
   ],
   "source": [
    "sales_amount = np.random.randint(20, size=(5,3))\n",
    "sales_amount"
   ],
   "metadata": {
    "collapsed": false,
    "ExecuteTime": {
     "end_time": "2023-08-12T13:33:31.008400Z",
     "start_time": "2023-08-12T13:33:30.960309Z"
    }
   },
   "id": "a9fdb6b2e9ceeab9"
  },
  {
   "cell_type": "code",
   "execution_count": 11,
   "outputs": [],
   "source": [
    "columns = [\"Almond butter\", \"Peanut butter\", \"Cashew butter\"]"
   ],
   "metadata": {
    "collapsed": false,
    "ExecuteTime": {
     "end_time": "2023-08-12T13:36:45.620558Z",
     "start_time": "2023-08-12T13:36:45.576363Z"
    }
   },
   "id": "36fd77657d87f90d"
  },
  {
   "cell_type": "code",
   "execution_count": 12,
   "outputs": [],
   "source": [
    "# Create weekly sales dataframe\n",
    "weekly_sales = pd.DataFrame(sales_amount,\n",
    "                            index=[\"Mon\", \"Tues\", \"Wed\", \"Thurs\", \"Fri\"],\n",
    "                            columns=columns)"
   ],
   "metadata": {
    "collapsed": false,
    "ExecuteTime": {
     "end_time": "2023-08-12T13:36:46.547954Z",
     "start_time": "2023-08-12T13:36:46.518040Z"
    }
   },
   "id": "9f6cc93c3f402d1d"
  },
  {
   "cell_type": "code",
   "execution_count": 13,
   "outputs": [
    {
     "data": {
      "text/plain": "       Almond butter  Peanut butter  Cashew butter\nMon               12             15              0\nTues               3              3              7\nWed                9             19             18\nThurs              4              6             12\nFri                1              6              7",
      "text/html": "<div>\n<style scoped>\n    .dataframe tbody tr th:only-of-type {\n        vertical-align: middle;\n    }\n\n    .dataframe tbody tr th {\n        vertical-align: top;\n    }\n\n    .dataframe thead th {\n        text-align: right;\n    }\n</style>\n<table border=\"1\" class=\"dataframe\">\n  <thead>\n    <tr style=\"text-align: right;\">\n      <th></th>\n      <th>Almond butter</th>\n      <th>Peanut butter</th>\n      <th>Cashew butter</th>\n    </tr>\n  </thead>\n  <tbody>\n    <tr>\n      <th>Mon</th>\n      <td>12</td>\n      <td>15</td>\n      <td>0</td>\n    </tr>\n    <tr>\n      <th>Tues</th>\n      <td>3</td>\n      <td>3</td>\n      <td>7</td>\n    </tr>\n    <tr>\n      <th>Wed</th>\n      <td>9</td>\n      <td>19</td>\n      <td>18</td>\n    </tr>\n    <tr>\n      <th>Thurs</th>\n      <td>4</td>\n      <td>6</td>\n      <td>12</td>\n    </tr>\n    <tr>\n      <th>Fri</th>\n      <td>1</td>\n      <td>6</td>\n      <td>7</td>\n    </tr>\n  </tbody>\n</table>\n</div>"
     },
     "execution_count": 13,
     "metadata": {},
     "output_type": "execute_result"
    }
   ],
   "source": [
    "weekly_sales"
   ],
   "metadata": {
    "collapsed": false,
    "ExecuteTime": {
     "end_time": "2023-08-12T13:36:47.411054Z",
     "start_time": "2023-08-12T13:36:47.386538Z"
    }
   },
   "id": "566fcfcaabd370cb"
  },
  {
   "cell_type": "code",
   "execution_count": 14,
   "outputs": [
    {
     "data": {
      "text/plain": "array([10,  8, 12])"
     },
     "execution_count": 14,
     "metadata": {},
     "output_type": "execute_result"
    }
   ],
   "source": [
    "# Create prices array\n",
    "prices = np.array([10, 8, 12])\n",
    "prices"
   ],
   "metadata": {
    "collapsed": false,
    "ExecuteTime": {
     "end_time": "2023-08-12T13:36:48.833071Z",
     "start_time": "2023-08-12T13:36:48.792803Z"
    }
   },
   "id": "18bd5a47f726accb"
  },
  {
   "cell_type": "code",
   "execution_count": 15,
   "outputs": [
    {
     "data": {
      "text/plain": "       Almond butter  Peanut butter  Cashew butter\nPrice             10              8             12",
      "text/html": "<div>\n<style scoped>\n    .dataframe tbody tr th:only-of-type {\n        vertical-align: middle;\n    }\n\n    .dataframe tbody tr th {\n        vertical-align: top;\n    }\n\n    .dataframe thead th {\n        text-align: right;\n    }\n</style>\n<table border=\"1\" class=\"dataframe\">\n  <thead>\n    <tr style=\"text-align: right;\">\n      <th></th>\n      <th>Almond butter</th>\n      <th>Peanut butter</th>\n      <th>Cashew butter</th>\n    </tr>\n  </thead>\n  <tbody>\n    <tr>\n      <th>Price</th>\n      <td>10</td>\n      <td>8</td>\n      <td>12</td>\n    </tr>\n  </tbody>\n</table>\n</div>"
     },
     "execution_count": 15,
     "metadata": {},
     "output_type": "execute_result"
    }
   ],
   "source": [
    "pd_prices = pd.DataFrame(prices.reshape(1,3),\n",
    "                         index=[\"Price\"],\n",
    "                         columns=columns)\n",
    "pd_prices"
   ],
   "metadata": {
    "collapsed": false,
    "ExecuteTime": {
     "end_time": "2023-08-12T13:37:00.596444Z",
     "start_time": "2023-08-12T13:37:00.555259Z"
    }
   },
   "id": "c5dc7527ed9f2a7b"
  },
  {
   "cell_type": "code",
   "execution_count": 16,
   "outputs": [
    {
     "data": {
      "text/plain": "(3,)"
     },
     "execution_count": 16,
     "metadata": {},
     "output_type": "execute_result"
    }
   ],
   "source": [
    "prices.shape"
   ],
   "metadata": {
    "collapsed": false,
    "ExecuteTime": {
     "end_time": "2023-08-12T13:38:11.223636Z",
     "start_time": "2023-08-12T13:38:11.169726Z"
    }
   },
   "id": "34c961ba75b9ddfb"
  },
  {
   "cell_type": "code",
   "execution_count": 17,
   "outputs": [
    {
     "data": {
      "text/plain": "(1, 3)"
     },
     "execution_count": 17,
     "metadata": {},
     "output_type": "execute_result"
    }
   ],
   "source": [
    "prices.reshape(1,3).shape"
   ],
   "metadata": {
    "collapsed": false,
    "ExecuteTime": {
     "end_time": "2023-08-12T13:38:19.504410Z",
     "start_time": "2023-08-12T13:38:19.461668Z"
    }
   },
   "id": "db9d0fffd2199e53"
  },
  {
   "cell_type": "code",
   "execution_count": 18,
   "outputs": [
    {
     "data": {
      "text/plain": "(       Almond butter  Peanut butter  Cashew butter\n Price             10              8             12,\n        Almond butter  Peanut butter  Cashew butter\n Mon               12             15              0\n Tues               3              3              7\n Wed                9             19             18\n Thurs              4              6             12\n Fri                1              6              7)"
     },
     "execution_count": 18,
     "metadata": {},
     "output_type": "execute_result"
    }
   ],
   "source": [
    "pd_prices, weekly_sales"
   ],
   "metadata": {
    "collapsed": false,
    "ExecuteTime": {
     "end_time": "2023-08-12T13:38:57.921319Z",
     "start_time": "2023-08-12T13:38:57.868609Z"
    }
   },
   "id": "e7e651af1add023c"
  },
  {
   "cell_type": "code",
   "execution_count": 19,
   "outputs": [
    {
     "data": {
      "text/plain": "array([240, 138, 458, 232, 142])"
     },
     "execution_count": 19,
     "metadata": {},
     "output_type": "execute_result"
    }
   ],
   "source": [
    "total = prices.dot(sales_amount.T)\n",
    "total"
   ],
   "metadata": {
    "collapsed": false,
    "ExecuteTime": {
     "end_time": "2023-08-12T13:39:34.278064Z",
     "start_time": "2023-08-12T13:39:34.198936Z"
    }
   },
   "id": "2e0608e98ff4a378"
  },
  {
   "cell_type": "code",
   "execution_count": 20,
   "outputs": [
    {
     "data": {
      "text/plain": "       Almond butter  Peanut butter  Cashew butter  Total\nMon               12             15              0    240\nTues               3              3              7    138\nWed                9             19             18    458\nThurs              4              6             12    232\nFri                1              6              7    142",
      "text/html": "<div>\n<style scoped>\n    .dataframe tbody tr th:only-of-type {\n        vertical-align: middle;\n    }\n\n    .dataframe tbody tr th {\n        vertical-align: top;\n    }\n\n    .dataframe thead th {\n        text-align: right;\n    }\n</style>\n<table border=\"1\" class=\"dataframe\">\n  <thead>\n    <tr style=\"text-align: right;\">\n      <th></th>\n      <th>Almond butter</th>\n      <th>Peanut butter</th>\n      <th>Cashew butter</th>\n      <th>Total</th>\n    </tr>\n  </thead>\n  <tbody>\n    <tr>\n      <th>Mon</th>\n      <td>12</td>\n      <td>15</td>\n      <td>0</td>\n      <td>240</td>\n    </tr>\n    <tr>\n      <th>Tues</th>\n      <td>3</td>\n      <td>3</td>\n      <td>7</td>\n      <td>138</td>\n    </tr>\n    <tr>\n      <th>Wed</th>\n      <td>9</td>\n      <td>19</td>\n      <td>18</td>\n      <td>458</td>\n    </tr>\n    <tr>\n      <th>Thurs</th>\n      <td>4</td>\n      <td>6</td>\n      <td>12</td>\n      <td>232</td>\n    </tr>\n    <tr>\n      <th>Fri</th>\n      <td>1</td>\n      <td>6</td>\n      <td>7</td>\n      <td>142</td>\n    </tr>\n  </tbody>\n</table>\n</div>"
     },
     "execution_count": 20,
     "metadata": {},
     "output_type": "execute_result"
    }
   ],
   "source": [
    "weekly_sales[\"Total\"] = total\n",
    "weekly_sales"
   ],
   "metadata": {
    "collapsed": false,
    "ExecuteTime": {
     "end_time": "2023-08-12T13:39:46.749369Z",
     "start_time": "2023-08-12T13:39:46.710204Z"
    }
   },
   "id": "f2eb6927091fd00b"
  },
  {
   "cell_type": "code",
   "execution_count": null,
   "outputs": [],
   "source": [],
   "metadata": {
    "collapsed": false
   },
   "id": "eaabaec95a4aac19"
  }
 ],
 "metadata": {
  "kernelspec": {
   "display_name": "Python 3",
   "language": "python",
   "name": "python3"
  },
  "language_info": {
   "codemirror_mode": {
    "name": "ipython",
    "version": 2
   },
   "file_extension": ".py",
   "mimetype": "text/x-python",
   "name": "python",
   "nbconvert_exporter": "python",
   "pygments_lexer": "ipython2",
   "version": "2.7.6"
  }
 },
 "nbformat": 4,
 "nbformat_minor": 5
}
